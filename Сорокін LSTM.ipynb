{
 "cells": [
  {
   "cell_type": "code",
   "execution_count": 24,
   "id": "5d78b0c2-543c-4abb-b500-0f7a659ee507",
   "metadata": {},
   "outputs": [],
   "source": [
    "import numpy as np\n",
    "import re\n",
    "from tensorflow.keras.layers import Dense, LSTM, Input, Dropout, Embedding\n",
    "from tensorflow.keras.models import Sequential\n",
    "from tensorflow.keras.optimizers import Adam\n",
    "from tensorflow.keras.preprocessing.text import Tokenizer, text_to_word_sequence\n",
    "from tensorflow.keras.preprocessing.sequence import pad_sequences"
   ]
  },
  {
   "cell_type": "code",
   "execution_count": 50,
   "id": "120add32-3eb9-4e01-88b4-2acbbc065237",
   "metadata": {},
   "outputs": [
    {
     "name": "stdout",
     "output_type": "stream",
     "text": [
      "3 3 6\n",
      "[('чудова', 1), ('новина', 1), ('нарешті', 1), ('вийшов', 1), ('довгоочікуваний', 1), ('фільм', 1), ('який', 1), ('ви', 1), ('так', 1), ('хотіли', 1)]\n",
      "Чудова новина!\n",
      "[[ 0  0  0  0  0  0  0  0  2  3]\n",
      " [ 0  4  5  6  7  8  9 10 11 12]\n",
      " [14 15 16 17 18 19 20  1 21 22]\n",
      " [ 0  0  0  0  0  0  0  0 23 24]\n",
      " [26 27  1 28 29 30 31  1 32 33]\n",
      " [ 0 34 35 36 37 38 39 40 41 42]]\n",
      "[('на', 1), ('чудова', 2), ('новина', 3), ('нарешті', 4), ('вийшов', 5), ('довгоочікуваний', 6), ('фільм', 7), ('який', 8), ('ви', 9), ('так', 10), ('хотіли', 11), ('побачити', 12), ('збирайте', 13), ('друзів', 14), ('купуйте', 15), ('попкорн', 16), ('і', 17), ('вирушайте', 18), ('в', 19), ('кінотеатр', 20), ('незабутні', 21), ('враження', 22), ('неприємна', 23), ('ситуація', 24), ('застряг', 25), ('у', 26), ('пробці', 27), ('годину', 28), ('через', 29), ('що', 30), ('спізнився', 31), ('важливу', 32), ('зустріч', 33), ('настрій', 34), ('зіпсований', 35), ('плани', 36), ('порушені', 37), ('а', 38), ('попереду', 39), ('ще', 40), ('багато', 41), ('справ', 42)]\n",
      "(6, 10) (6, 2)\n"
     ]
    }
   ],
   "source": [
    "texts_true = [\n",
    "    \"Чудова новина!\",\n",
    "    \"Нарешті вийшов довгоочікуваний фільм, який ви так хотіли побачити.\",\n",
    "    \"Збирайте друзів, купуйте попкорн і вирушайте в кінотеатр на незабутні враження!\"\n",
    "]\n",
    "\n",
    "texts_false = [\n",
    "    \"Неприємна ситуація.\",\n",
    "    \"Застряг у пробці на годину, через що спізнився на важливу зустріч.\",\n",
    "    \"Настрій зіпсований, плани порушені, а попереду ще багато справ.\"\n",
    "]\n",
    "\n",
    "texts = texts_true + texts_false\n",
    "count_true = len(texts_true)\n",
    "count_false = len(texts_false)\n",
    "total_lines = count_true + count_false\n",
    "print(count_true, count_false, total_lines)\n",
    "\n",
    "maxWordsCount = 1000\n",
    "tokenizer = Tokenizer(num_words=maxWordsCount, filters='!–\"—#$%&amp;()*+,-./:;<=>?@[\\\\]^_`{|}~\\t\\n\\r«»', lower=True, split=' ', char_level=False)\n",
    "tokenizer.fit_on_texts(texts)\n",
    "\n",
    "dist = list(tokenizer.word_counts.items())\n",
    "print(dist[:10])\n",
    "print(texts[0][:100])\n",
    "\n",
    "max_text_len = 10\n",
    "data = tokenizer.texts_to_sequences(texts)\n",
    "data_pad = pad_sequences(data, maxlen=max_text_len)\n",
    "print(data_pad)\n",
    "\n",
    "print(list(tokenizer.word_index.items()))\n",
    "\n",
    "X = data_pad\n",
    "Y = np.array([[1, 0]]*count_true + [[0, 1]]*count_false)\n",
    "print(X.shape, Y.shape)\n",
    "\n",
    "indices = np.random.choice(X.shape[0], size=X.shape[0], replace=False)\n",
    "X = X[indices]\n",
    "Y = Y[indices]"
   ]
  },
  {
   "cell_type": "code",
   "execution_count": 51,
   "id": "7aaeb766-1ea7-4801-abc8-9eec1e01fd9b",
   "metadata": {},
   "outputs": [
    {
     "name": "stdout",
     "output_type": "stream",
     "text": [
      "Model: \"sequential_20\"\n",
      "_________________________________________________________________\n",
      " Layer (type)                Output Shape              Param #   \n",
      "=================================================================\n",
      " embedding_20 (Embedding)    (None, 10, 128)           128000    \n",
      "                                                                 \n",
      " lstm_40 (LSTM)              (None, 10, 128)           131584    \n",
      "                                                                 \n",
      " lstm_41 (LSTM)              (None, 64)                49408     \n",
      "                                                                 \n",
      " dense_20 (Dense)            (None, 2)                 130       \n",
      "                                                                 \n",
      "=================================================================\n",
      "Total params: 309122 (1.18 MB)\n",
      "Trainable params: 309122 (1.18 MB)\n",
      "Non-trainable params: 0 (0.00 Byte)\n",
      "_________________________________________________________________\n",
      "Epoch 1/50\n",
      "1/1 [==============================] - 2s 2s/step - loss: 0.6952 - accuracy: 0.3333\n",
      "Epoch 2/50\n",
      "1/1 [==============================] - 0s 14ms/step - loss: 0.6945 - accuracy: 0.3333\n",
      "Epoch 3/50\n",
      "1/1 [==============================] - 0s 13ms/step - loss: 0.6938 - accuracy: 0.3333\n",
      "Epoch 4/50\n",
      "1/1 [==============================] - 0s 13ms/step - loss: 0.6932 - accuracy: 0.3333\n",
      "Epoch 5/50\n",
      "1/1 [==============================] - 0s 14ms/step - loss: 0.6925 - accuracy: 0.5000\n",
      "Epoch 6/50\n",
      "1/1 [==============================] - 0s 13ms/step - loss: 0.6918 - accuracy: 0.5000\n",
      "Epoch 7/50\n",
      "1/1 [==============================] - 0s 13ms/step - loss: 0.6911 - accuracy: 0.5000\n",
      "Epoch 8/50\n",
      "1/1 [==============================] - 0s 14ms/step - loss: 0.6905 - accuracy: 0.6667\n",
      "Epoch 9/50\n",
      "1/1 [==============================] - 0s 13ms/step - loss: 0.6898 - accuracy: 0.8333\n",
      "Epoch 10/50\n",
      "1/1 [==============================] - 0s 12ms/step - loss: 0.6891 - accuracy: 0.8333\n",
      "Epoch 11/50\n",
      "1/1 [==============================] - 0s 13ms/step - loss: 0.6884 - accuracy: 0.8333\n",
      "Epoch 12/50\n",
      "1/1 [==============================] - 0s 13ms/step - loss: 0.6877 - accuracy: 0.8333\n",
      "Epoch 13/50\n",
      "1/1 [==============================] - 0s 13ms/step - loss: 0.6870 - accuracy: 0.8333\n",
      "Epoch 14/50\n",
      "1/1 [==============================] - 0s 14ms/step - loss: 0.6863 - accuracy: 0.8333\n",
      "Epoch 15/50\n",
      "1/1 [==============================] - 0s 14ms/step - loss: 0.6855 - accuracy: 0.8333\n",
      "Epoch 16/50\n",
      "1/1 [==============================] - 0s 13ms/step - loss: 0.6847 - accuracy: 0.8333\n",
      "Epoch 17/50\n",
      "1/1 [==============================] - 0s 13ms/step - loss: 0.6840 - accuracy: 0.8333\n",
      "Epoch 18/50\n",
      "1/1 [==============================] - 0s 13ms/step - loss: 0.6831 - accuracy: 0.8333\n",
      "Epoch 19/50\n",
      "1/1 [==============================] - 0s 13ms/step - loss: 0.6823 - accuracy: 0.8333\n",
      "Epoch 20/50\n",
      "1/1 [==============================] - 0s 14ms/step - loss: 0.6814 - accuracy: 1.0000\n",
      "Epoch 21/50\n",
      "1/1 [==============================] - 0s 14ms/step - loss: 0.6805 - accuracy: 1.0000\n",
      "Epoch 22/50\n",
      "1/1 [==============================] - 0s 14ms/step - loss: 0.6796 - accuracy: 1.0000\n",
      "Epoch 23/50\n",
      "1/1 [==============================] - 0s 14ms/step - loss: 0.6786 - accuracy: 1.0000\n",
      "Epoch 24/50\n",
      "1/1 [==============================] - 0s 14ms/step - loss: 0.6776 - accuracy: 1.0000\n",
      "Epoch 25/50\n",
      "1/1 [==============================] - 0s 13ms/step - loss: 0.6766 - accuracy: 1.0000\n",
      "Epoch 26/50\n",
      "1/1 [==============================] - 0s 13ms/step - loss: 0.6755 - accuracy: 1.0000\n",
      "Epoch 27/50\n",
      "1/1 [==============================] - 0s 13ms/step - loss: 0.6743 - accuracy: 1.0000\n",
      "Epoch 28/50\n",
      "1/1 [==============================] - 0s 14ms/step - loss: 0.6732 - accuracy: 1.0000\n",
      "Epoch 29/50\n",
      "1/1 [==============================] - 0s 13ms/step - loss: 0.6719 - accuracy: 1.0000\n",
      "Epoch 30/50\n",
      "1/1 [==============================] - 0s 13ms/step - loss: 0.6706 - accuracy: 1.0000\n",
      "Epoch 31/50\n",
      "1/1 [==============================] - 0s 13ms/step - loss: 0.6692 - accuracy: 1.0000\n",
      "Epoch 32/50\n",
      "1/1 [==============================] - 0s 13ms/step - loss: 0.6677 - accuracy: 1.0000\n",
      "Epoch 33/50\n",
      "1/1 [==============================] - 0s 13ms/step - loss: 0.6662 - accuracy: 1.0000\n",
      "Epoch 34/50\n",
      "1/1 [==============================] - 0s 13ms/step - loss: 0.6646 - accuracy: 1.0000\n",
      "Epoch 35/50\n",
      "1/1 [==============================] - 0s 13ms/step - loss: 0.6629 - accuracy: 1.0000\n",
      "Epoch 36/50\n",
      "1/1 [==============================] - 0s 13ms/step - loss: 0.6611 - accuracy: 1.0000\n",
      "Epoch 37/50\n",
      "1/1 [==============================] - 0s 13ms/step - loss: 0.6592 - accuracy: 1.0000\n",
      "Epoch 38/50\n",
      "1/1 [==============================] - 0s 20ms/step - loss: 0.6572 - accuracy: 1.0000\n",
      "Epoch 39/50\n",
      "1/1 [==============================] - 0s 17ms/step - loss: 0.6551 - accuracy: 1.0000\n",
      "Epoch 40/50\n",
      "1/1 [==============================] - 0s 15ms/step - loss: 0.6529 - accuracy: 1.0000\n",
      "Epoch 41/50\n",
      "1/1 [==============================] - 0s 14ms/step - loss: 0.6506 - accuracy: 1.0000\n",
      "Epoch 42/50\n",
      "1/1 [==============================] - 0s 13ms/step - loss: 0.6481 - accuracy: 1.0000\n",
      "Epoch 43/50\n",
      "1/1 [==============================] - 0s 15ms/step - loss: 0.6455 - accuracy: 1.0000\n",
      "Epoch 44/50\n",
      "1/1 [==============================] - 0s 14ms/step - loss: 0.6427 - accuracy: 1.0000\n",
      "Epoch 45/50\n",
      "1/1 [==============================] - 0s 14ms/step - loss: 0.6397 - accuracy: 1.0000\n",
      "Epoch 46/50\n",
      "1/1 [==============================] - 0s 14ms/step - loss: 0.6366 - accuracy: 1.0000\n",
      "Epoch 47/50\n",
      "1/1 [==============================] - 0s 14ms/step - loss: 0.6333 - accuracy: 1.0000\n",
      "Epoch 48/50\n",
      "1/1 [==============================] - 0s 13ms/step - loss: 0.6299 - accuracy: 1.0000\n",
      "Epoch 49/50\n",
      "1/1 [==============================] - 0s 14ms/step - loss: 0.6262 - accuracy: 1.0000\n",
      "Epoch 50/50\n",
      "1/1 [==============================] - 0s 13ms/step - loss: 0.6223 - accuracy: 1.0000\n"
     ]
    }
   ],
   "source": [
    "model = Sequential()\n",
    "model.add(Embedding(maxWordsCount, 128, input_length=max_text_len))\n",
    "model.add(LSTM(128, return_sequences=True))\n",
    "model.add(LSTM(64))\n",
    "model.add(Dense(2, activation='softmax'))\n",
    "model.summary()\n",
    "\n",
    "model.compile(loss='categorical_crossentropy', metrics=['accuracy'], optimizer=Adam(0.0001))\n",
    "\n",
    "history = model.fit(X, Y, batch_size=32, epochs=50)\n",
    "\n",
    "reverse_word_map = dict(map(reversed, tokenizer.word_index.items()))\n",
    "\n",
    "def sequence_to_text(list_of_indices):\n",
    "    words = [reverse_word_map.get(letter) for letter in list_of_indices]\n",
    "    return(words)"
   ]
  },
  {
   "cell_type": "code",
   "execution_count": 52,
   "id": "8c26d6e0-9711-484e-b5df-63db046030e0",
   "metadata": {},
   "outputs": [
    {
     "name": "stdout",
     "output_type": "stream",
     "text": [
      "['застряг', 'у', 'пробці', 'на', 'годину', 'через', 'що', 'спізнився', 'на', 'важливу', 'зустріч']\n",
      "1/1 [==============================] - 0s 378ms/step\n"
     ]
    }
   ],
   "source": [
    "t = \"Застряг у пробці на годину, через що спізнився на важливу зустріч\".lower()\n",
    "data = tokenizer.texts_to_sequences([t])\n",
    "data_pad = pad_sequences(data, maxlen=max_text_len)\n",
    "print(sequence_to_text(data[0]))\n",
    "\n",
    "res = model.predict(data_pad)"
   ]
  },
  {
   "cell_type": "code",
   "execution_count": 53,
   "id": "ca3db635-e3a5-4c02-b0b7-8724ded4805c",
   "metadata": {},
   "outputs": [
    {
     "name": "stdout",
     "output_type": "stream",
     "text": [
      "Результат. Текст позитивний.\n"
     ]
    }
   ],
   "source": [
    "if np.argmax(res) == 1:\n",
    "    print(\"Результат. Текст позитивний.\")\n",
    "else:\n",
    "    print(\"Результат. Текст негативний.\")"
   ]
  },
  {
   "cell_type": "code",
   "execution_count": 54,
   "id": "2c195b02-9350-4b62-acc8-580243cc1d66",
   "metadata": {},
   "outputs": [
    {
     "name": "stdout",
     "output_type": "stream",
     "text": [
      "['нарешті', 'вийшов', 'довгоочікуваний', 'фільм', 'який', 'ви', 'так', 'хотіли', 'побачити']\n",
      "1/1 [==============================] - 0s 15ms/step\n"
     ]
    }
   ],
   "source": [
    "t1 = \"Нарешті вийшов довгоочікуваний фільм, який ви так хотіли побачити\".lower()\n",
    "data1 = tokenizer.texts_to_sequences([t1])\n",
    "data1_pad = pad_sequences(data1, maxlen=max_text_len)\n",
    "print( sequence_to_text(data1[0]) )\n",
    "\n",
    "res1 = model.predict(data1_pad)"
   ]
  },
  {
   "cell_type": "code",
   "execution_count": 56,
   "id": "6c5268c2-2563-47bc-a584-8668c2a7a7a3",
   "metadata": {},
   "outputs": [
    {
     "name": "stdout",
     "output_type": "stream",
     "text": [
      "Результат. Текст негативний.\n"
     ]
    }
   ],
   "source": [
    "if np.argmax(res) == 1:\n",
    "    print(\"Результат. Текст негативний.\")\n",
    "else:\n",
    "    print(\"Результат. Текст позитивний.\")"
   ]
  },
  {
   "cell_type": "code",
   "execution_count": null,
   "id": "af051825-a1e2-46bb-9b70-2b63bb317201",
   "metadata": {},
   "outputs": [],
   "source": []
  }
 ],
 "metadata": {
  "kernelspec": {
   "display_name": "Python 3 (ipykernel)",
   "language": "python",
   "name": "python3"
  },
  "language_info": {
   "codemirror_mode": {
    "name": "ipython",
    "version": 3
   },
   "file_extension": ".py",
   "mimetype": "text/x-python",
   "name": "python",
   "nbconvert_exporter": "python",
   "pygments_lexer": "ipython3",
   "version": "3.10.4"
  }
 },
 "nbformat": 4,
 "nbformat_minor": 5
}
