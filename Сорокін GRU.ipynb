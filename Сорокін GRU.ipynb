{
 "cells": [
  {
   "cell_type": "code",
   "execution_count": 1,
   "id": "b089f7fe-a466-4a5b-8dfd-e3b3f4c3085d",
   "metadata": {},
   "outputs": [],
   "source": [
    "import numpy as np\n",
    "import re\n",
    "\n",
    "from tensorflow.keras.layers import Dense, GRU, Input, Dropout, Embedding\n",
    "from tensorflow.keras.models import Sequential\n",
    "from tensorflow.keras.optimizers import Adam\n",
    "from tensorflow.keras.preprocessing.text import Tokenizer, text_to_word_sequence\n",
    "from tensorflow.keras.preprocessing.sequence import pad_sequences"
   ]
  },
  {
   "cell_type": "code",
   "execution_count": 11,
   "id": "fb63bcab-d0d6-4dcc-a729-bf046f5863a7",
   "metadata": {},
   "outputs": [
    {
     "name": "stdout",
     "output_type": "stream",
     "text": [
      "3 3 6\n",
      "[('чудова', 1), ('новина', 1), ('нарешті', 1), ('вийшов', 1), ('довгоочікуваний', 1), ('фільм', 1), ('який', 1), ('ви', 1), ('так', 1), ('хотіли', 1)]\n",
      "Чудова новина!\n",
      "[[ 0  0  0  0  0  0  0  0  2  3]\n",
      " [ 0  4  5  6  7  8  9 10 11 12]\n",
      " [14 15 16 17 18 19 20  1 21 22]\n",
      " [ 0  0  0  0  0  0  0  0 23 24]\n",
      " [26 27  1 28 29 30 31  1 32 33]\n",
      " [ 0 34 35 36 37 38 39 40 41 42]]\n",
      "[('на', 1), ('чудова', 2), ('новина', 3), ('нарешті', 4), ('вийшов', 5), ('довгоочікуваний', 6), ('фільм', 7), ('який', 8), ('ви', 9), ('так', 10), ('хотіли', 11), ('побачити', 12), ('збирайте', 13), ('друзів', 14), ('купуйте', 15), ('попкорн', 16), ('і', 17), ('вирушайте', 18), ('в', 19), ('кінотеатр', 20), ('незабутні', 21), ('враження', 22), ('неприємна', 23), ('ситуація', 24), ('застряг', 25), ('у', 26), ('пробці', 27), ('годину', 28), ('через', 29), ('що', 30), ('спізнився', 31), ('важливу', 32), ('зустріч', 33), ('настрій', 34), ('зіпсований', 35), ('плани', 36), ('порушені', 37), ('а', 38), ('попереду', 39), ('ще', 40), ('багато', 41), ('справ', 42)]\n",
      "(6, 10) (6, 2)\n"
     ]
    }
   ],
   "source": [
    "texts_true = [\n",
    "    \"Чудова новина!\",\n",
    "    \"Нарешті вийшов довгоочікуваний фільм, який ви так хотіли побачити.\",\n",
    "    \"Збирайте друзів, купуйте попкорн і вирушайте в кінотеатр на незабутні враження!\"\n",
    "]\n",
    "\n",
    "texts_false = [\n",
    "    \"Неприємна ситуація.\",\n",
    "    \"Застряг у пробці на годину, через що спізнився на важливу зустріч.\",\n",
    "    \"Настрій зіпсований, плани порушені, а попереду ще багато справ.\"\n",
    "]\n",
    "\n",
    "texts = texts_true + texts_false\n",
    "count_true = len(texts_true)\n",
    "count_false = len(texts_false)\n",
    "total_lines = count_true + count_false\n",
    "print(count_true, count_false, total_lines)\n",
    "\n",
    "\n",
    "maxWordsCount = 1000\n",
    "tokenizer = Tokenizer(num_words=maxWordsCount, filters='!–\"—#$%&amp;()*+,-./:;<=>?@[\\\\]^_`{|}~\\t\\n\\r«»', lower=True, split=' ', char_level=False)\n",
    "tokenizer.fit_on_texts(texts)\n",
    "\n",
    "dist = list(tokenizer.word_counts.items())\n",
    "print(dist[:10])\n",
    "print(texts[0][:100])\n",
    "\n",
    "\n",
    "max_text_len = 10\n",
    "data = tokenizer.texts_to_sequences(texts)\n",
    "data_pad = pad_sequences(data, maxlen=max_text_len)\n",
    "print(data_pad)\n",
    "\n",
    "print( list(tokenizer.word_index.items()) )\n",
    "\n",
    "\n",
    "X = data_pad\n",
    "Y = np.array([[1, 0]]*count_true + [[0, 1]]*count_false)\n",
    "print(X.shape, Y.shape)\n",
    "\n",
    "indeces = np.random.choice(X.shape[0], size=X.shape[0], replace=False)\n",
    "X = X[indeces]\n",
    "Y = Y[indeces]"
   ]
  },
  {
   "cell_type": "code",
   "execution_count": 12,
   "id": "414abe67-ef03-4788-ae4b-b3f8d80e8116",
   "metadata": {},
   "outputs": [
    {
     "name": "stdout",
     "output_type": "stream",
     "text": [
      "Model: \"sequential_3\"\n",
      "_________________________________________________________________\n",
      " Layer (type)                Output Shape              Param #   \n",
      "=================================================================\n",
      " embedding_3 (Embedding)     (None, 10, 128)           128000    \n",
      "                                                                 \n",
      " gru_6 (GRU)                 (None, 10, 128)           99072     \n",
      "                                                                 \n",
      " gru_7 (GRU)                 (None, 64)                37248     \n",
      "                                                                 \n",
      " dense_3 (Dense)             (None, 2)                 130       \n",
      "                                                                 \n",
      "=================================================================\n",
      "Total params: 264450 (1.01 MB)\n",
      "Trainable params: 264450 (1.01 MB)\n",
      "Non-trainable params: 0 (0.00 Byte)\n",
      "_________________________________________________________________\n",
      "Epoch 1/50\n",
      "1/1 [==============================] - 2s 2s/step - loss: 0.6929 - accuracy: 0.3333\n",
      "Epoch 2/50\n",
      "1/1 [==============================] - 0s 8ms/step - loss: 0.6915 - accuracy: 0.5000\n",
      "Epoch 3/50\n",
      "1/1 [==============================] - 0s 9ms/step - loss: 0.6901 - accuracy: 0.6667\n",
      "Epoch 4/50\n",
      "1/1 [==============================] - 0s 8ms/step - loss: 0.6887 - accuracy: 0.6667\n",
      "Epoch 5/50\n",
      "1/1 [==============================] - 0s 9ms/step - loss: 0.6874 - accuracy: 0.6667\n",
      "Epoch 6/50\n",
      "1/1 [==============================] - 0s 8ms/step - loss: 0.6860 - accuracy: 0.6667\n",
      "Epoch 7/50\n",
      "1/1 [==============================] - 0s 7ms/step - loss: 0.6846 - accuracy: 0.6667\n",
      "Epoch 8/50\n",
      "1/1 [==============================] - 0s 8ms/step - loss: 0.6832 - accuracy: 0.6667\n",
      "Epoch 9/50\n",
      "1/1 [==============================] - 0s 7ms/step - loss: 0.6818 - accuracy: 0.8333\n",
      "Epoch 10/50\n",
      "1/1 [==============================] - 0s 8ms/step - loss: 0.6804 - accuracy: 1.0000\n",
      "Epoch 11/50\n",
      "1/1 [==============================] - 0s 6ms/step - loss: 0.6790 - accuracy: 1.0000\n",
      "Epoch 12/50\n",
      "1/1 [==============================] - 0s 8ms/step - loss: 0.6775 - accuracy: 1.0000\n",
      "Epoch 13/50\n",
      "1/1 [==============================] - 0s 6ms/step - loss: 0.6760 - accuracy: 1.0000\n",
      "Epoch 14/50\n",
      "1/1 [==============================] - 0s 8ms/step - loss: 0.6745 - accuracy: 1.0000\n",
      "Epoch 15/50\n",
      "1/1 [==============================] - 0s 7ms/step - loss: 0.6729 - accuracy: 1.0000\n",
      "Epoch 16/50\n",
      "1/1 [==============================] - 0s 7ms/step - loss: 0.6714 - accuracy: 1.0000\n",
      "Epoch 17/50\n",
      "1/1 [==============================] - 0s 7ms/step - loss: 0.6698 - accuracy: 1.0000\n",
      "Epoch 18/50\n",
      "1/1 [==============================] - 0s 8ms/step - loss: 0.6681 - accuracy: 1.0000\n",
      "Epoch 19/50\n",
      "1/1 [==============================] - 0s 8ms/step - loss: 0.6664 - accuracy: 1.0000\n",
      "Epoch 20/50\n",
      "1/1 [==============================] - 0s 9ms/step - loss: 0.6647 - accuracy: 1.0000\n",
      "Epoch 21/50\n",
      "1/1 [==============================] - 0s 9ms/step - loss: 0.6629 - accuracy: 1.0000\n",
      "Epoch 22/50\n",
      "1/1 [==============================] - 0s 10ms/step - loss: 0.6611 - accuracy: 1.0000\n",
      "Epoch 23/50\n",
      "1/1 [==============================] - 0s 9ms/step - loss: 0.6592 - accuracy: 1.0000\n",
      "Epoch 24/50\n",
      "1/1 [==============================] - 0s 10ms/step - loss: 0.6573 - accuracy: 1.0000\n",
      "Epoch 25/50\n",
      "1/1 [==============================] - 0s 9ms/step - loss: 0.6552 - accuracy: 1.0000\n",
      "Epoch 26/50\n",
      "1/1 [==============================] - 0s 8ms/step - loss: 0.6532 - accuracy: 1.0000\n",
      "Epoch 27/50\n",
      "1/1 [==============================] - 0s 8ms/step - loss: 0.6510 - accuracy: 1.0000\n",
      "Epoch 28/50\n",
      "1/1 [==============================] - 0s 7ms/step - loss: 0.6488 - accuracy: 1.0000\n",
      "Epoch 29/50\n",
      "1/1 [==============================] - 0s 8ms/step - loss: 0.6465 - accuracy: 1.0000\n",
      "Epoch 30/50\n",
      "1/1 [==============================] - 0s 7ms/step - loss: 0.6441 - accuracy: 1.0000\n",
      "Epoch 31/50\n",
      "1/1 [==============================] - 0s 8ms/step - loss: 0.6417 - accuracy: 1.0000\n",
      "Epoch 32/50\n",
      "1/1 [==============================] - 0s 7ms/step - loss: 0.6391 - accuracy: 1.0000\n",
      "Epoch 33/50\n",
      "1/1 [==============================] - 0s 8ms/step - loss: 0.6365 - accuracy: 1.0000\n",
      "Epoch 34/50\n",
      "1/1 [==============================] - 0s 7ms/step - loss: 0.6337 - accuracy: 1.0000\n",
      "Epoch 35/50\n",
      "1/1 [==============================] - 0s 8ms/step - loss: 0.6309 - accuracy: 1.0000\n",
      "Epoch 36/50\n",
      "1/1 [==============================] - 0s 8ms/step - loss: 0.6279 - accuracy: 1.0000\n",
      "Epoch 37/50\n",
      "1/1 [==============================] - 0s 8ms/step - loss: 0.6248 - accuracy: 1.0000\n",
      "Epoch 38/50\n",
      "1/1 [==============================] - 0s 7ms/step - loss: 0.6216 - accuracy: 1.0000\n",
      "Epoch 39/50\n",
      "1/1 [==============================] - 0s 7ms/step - loss: 0.6182 - accuracy: 1.0000\n",
      "Epoch 40/50\n",
      "1/1 [==============================] - 0s 8ms/step - loss: 0.6147 - accuracy: 1.0000\n",
      "Epoch 41/50\n",
      "1/1 [==============================] - 0s 8ms/step - loss: 0.6111 - accuracy: 1.0000\n",
      "Epoch 42/50\n",
      "1/1 [==============================] - 0s 8ms/step - loss: 0.6074 - accuracy: 1.0000\n",
      "Epoch 43/50\n",
      "1/1 [==============================] - 0s 7ms/step - loss: 0.6034 - accuracy: 1.0000\n",
      "Epoch 44/50\n",
      "1/1 [==============================] - 0s 8ms/step - loss: 0.5993 - accuracy: 1.0000\n",
      "Epoch 45/50\n",
      "1/1 [==============================] - 0s 7ms/step - loss: 0.5951 - accuracy: 1.0000\n",
      "Epoch 46/50\n",
      "1/1 [==============================] - 0s 8ms/step - loss: 0.5907 - accuracy: 1.0000\n",
      "Epoch 47/50\n",
      "1/1 [==============================] - 0s 7ms/step - loss: 0.5861 - accuracy: 1.0000\n",
      "Epoch 48/50\n",
      "1/1 [==============================] - 0s 8ms/step - loss: 0.5813 - accuracy: 1.0000\n",
      "Epoch 49/50\n",
      "1/1 [==============================] - 0s 12ms/step - loss: 0.5763 - accuracy: 1.0000\n",
      "Epoch 50/50\n",
      "1/1 [==============================] - 0s 8ms/step - loss: 0.5711 - accuracy: 1.0000\n"
     ]
    }
   ],
   "source": [
    "model = Sequential()\n",
    "model.add(Embedding(maxWordsCount, 128, input_length = max_text_len))\n",
    "model.add(GRU(128, return_sequences=True))\n",
    "model.add(GRU(64))\n",
    "model.add(Dense(2, activation='softmax'))\n",
    "model.summary()\n",
    "\n",
    "model.compile(loss='categorical_crossentropy', metrics=['accuracy'], optimizer=Adam(0.0001))\n",
    "\n",
    "history = model.fit(X, Y, batch_size=32, epochs=50)\n",
    "\n",
    "reverse_word_map = dict(map(reversed, tokenizer.word_index.items()))\n",
    "\n",
    "def sequence_to_text(list_of_indices):\n",
    "    words = [reverse_word_map.get(letter) for letter in list_of_indices]\n",
    "    return(words)"
   ]
  },
  {
   "cell_type": "code",
   "execution_count": 21,
   "id": "345c0904-8c41-49eb-86ed-99e44aa7d107",
   "metadata": {},
   "outputs": [
    {
     "name": "stdout",
     "output_type": "stream",
     "text": [
      "['чудова', 'новина']\n",
      "1/1 [==============================] - 0s 14ms/step\n"
     ]
    }
   ],
   "source": [
    "t = \"Чудова новина\".lower()\n",
    "data = tokenizer.texts_to_sequences([t])\n",
    "data_pad = pad_sequences(data, maxlen=max_text_len)\n",
    "print( sequence_to_text(data[0]) )\n",
    "\n",
    "res = model.predict(data_pad)"
   ]
  },
  {
   "cell_type": "code",
   "execution_count": 25,
   "id": "102947e6-8c56-489b-82c4-45f2cdb87d4e",
   "metadata": {},
   "outputs": [
    {
     "name": "stdout",
     "output_type": "stream",
     "text": [
      "Результат. Текст позитивний.\n"
     ]
    }
   ],
   "source": [
    "if np.argmax(res) == 0:\n",
    "    print(\"Результат. Текст позитивний.\")\n",
    "else:\n",
    "    print(\"Результат. Текст негативний.\")"
   ]
  },
  {
   "cell_type": "code",
   "execution_count": 23,
   "id": "812405e8-56e9-4e2c-8329-fc87b628abfa",
   "metadata": {},
   "outputs": [
    {
     "name": "stdout",
     "output_type": "stream",
     "text": [
      "['неприємна', 'ситуація']\n",
      "1/1 [==============================] - 0s 14ms/step\n"
     ]
    }
   ],
   "source": [
    "t1 = \"Неприємна ситуація\".lower()\n",
    "data1 = tokenizer.texts_to_sequences([t1])\n",
    "data1_pad = pad_sequences(data1, maxlen=max_text_len)\n",
    "print( sequence_to_text(data1[0]) )\n",
    "\n",
    "res1 = model.predict(data1_pad)"
   ]
  },
  {
   "cell_type": "code",
   "execution_count": 27,
   "id": "b70bf9b4-e58e-4f5d-9470-9a8cb20a97a9",
   "metadata": {},
   "outputs": [
    {
     "name": "stdout",
     "output_type": "stream",
     "text": [
      "Результат. Текст негативний.\n"
     ]
    }
   ],
   "source": [
    "if np.argmax(res1) == 0:\n",
    "    print(\"Результат. Текст позитивний.\")\n",
    "else:\n",
    "    print(\"Результат. Текст негативний.\")"
   ]
  },
  {
   "cell_type": "code",
   "execution_count": null,
   "id": "080c2b2c-f2fc-400b-bfdb-c78a62dbd5e3",
   "metadata": {},
   "outputs": [],
   "source": []
  }
 ],
 "metadata": {
  "kernelspec": {
   "display_name": "Python 3 (ipykernel)",
   "language": "python",
   "name": "python3"
  },
  "language_info": {
   "codemirror_mode": {
    "name": "ipython",
    "version": 3
   },
   "file_extension": ".py",
   "mimetype": "text/x-python",
   "name": "python",
   "nbconvert_exporter": "python",
   "pygments_lexer": "ipython3",
   "version": "3.10.4"
  }
 },
 "nbformat": 4,
 "nbformat_minor": 5
}
